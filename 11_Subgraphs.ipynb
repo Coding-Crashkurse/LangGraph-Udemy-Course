{
 "cells": [
  {
   "cell_type": "code",
   "execution_count": null,
   "metadata": {},
   "outputs": [],
   "source": [
    "from dotenv import load_dotenv\n",
    "\n",
    "load_dotenv()"
   ]
  },
  {
   "cell_type": "code",
   "execution_count": null,
   "metadata": {},
   "outputs": [],
   "source": [
    "from typing import Literal\n",
    "from langchain_core.messages import HumanMessage\n",
    "from langgraph.graph import END, START, StateGraph, MessagesState\n",
    "from langchain_openai import ChatOpenAI\n",
    "from langchain_core.tools import tool\n",
    "from langgraph.prebuilt import ToolNode\n",
    "\n",
    "\n",
    "# Define a tool for weather information\n",
    "@tool\n",
    "def get_weather(location: str):\n",
    "    \"\"\"Call to get the current weather.\"\"\"\n",
    "    if location.lower() in [\"munich\"]:\n",
    "        return \"It's 15 degrees Celsius and cloudy.\"\n",
    "    else:\n",
    "        return \"It's 32 degrees Celsius and sunny.\"\n",
    "\n",
    "\n",
    "tools = [get_weather]\n",
    "model = ChatOpenAI(model=\"gpt-4o-mini\").bind_tools(tools)\n",
    "\n",
    "\n",
    "def call_model(state: MessagesState):\n",
    "    messages = state[\"messages\"]\n",
    "    response = model.invoke(messages)\n",
    "    return {\"messages\": [response]}\n",
    "\n",
    "\n",
    "def should_continue(state: MessagesState) -> Literal[\"tools\", END]:\n",
    "    messages = state[\"messages\"]\n",
    "    last_message = messages[-1]\n",
    "    if last_message.tool_calls:\n",
    "        return \"tools\"\n",
    "    return END\n",
    "\n",
    "\n",
    "subgraph_workflow = StateGraph(MessagesState)\n",
    "tool_node = ToolNode(tools)\n",
    "\n",
    "subgraph_workflow.add_node(\"agent\", call_model)\n",
    "subgraph_workflow.add_node(\"tools\", tool_node)\n",
    "subgraph_workflow.add_conditional_edges(\"agent\", should_continue)\n",
    "subgraph_workflow.add_edge(\"tools\", \"agent\")\n",
    "subgraph_workflow.set_entry_point(\"agent\")\n",
    "\n",
    "subgraph = subgraph_workflow.compile()"
   ]
  },
  {
   "cell_type": "code",
   "execution_count": null,
   "metadata": {},
   "outputs": [],
   "source": [
    "from IPython.display import Image, display\n",
    "from langchain_core.runnables.graph import MermaidDrawMethod\n",
    "\n",
    "display(\n",
    "    Image(\n",
    "        subgraph.get_graph().draw_mermaid_png(\n",
    "            draw_method=MermaidDrawMethod.API,\n",
    "        )\n",
    "    )\n",
    ")"
   ]
  },
  {
   "cell_type": "code",
   "execution_count": null,
   "metadata": {},
   "outputs": [],
   "source": [
    "subgraph.invoke({\"messages\": [HumanMessage(content=\"How is the weather in Munich?\")]})"
   ]
  },
  {
   "cell_type": "code",
   "execution_count": null,
   "metadata": {},
   "outputs": [],
   "source": [
    "from typing import TypedDict\n",
    "from langgraph.graph import StateGraph\n",
    "\n",
    "\n",
    "# Dummy start node implementation\n",
    "def start_node(state: MessagesState):\n",
    "    return state\n",
    "\n",
    "\n",
    "main_graph = StateGraph(MessagesState)\n",
    "main_graph.add_node(\"start\", start_node)\n",
    "main_graph.add_node(\"subgraph\", subgraph)\n",
    "main_graph.add_edge(START, \"start\")\n",
    "main_graph.add_edge(\"start\", \"subgraph\")\n",
    "\n",
    "graph = main_graph.compile()"
   ]
  },
  {
   "cell_type": "code",
   "execution_count": null,
   "metadata": {},
   "outputs": [],
   "source": [
    "initial_state = {\"messages\": [HumanMessage(content=\"What's the weather in Munich?\")]}\n",
    "result = graph.invoke(initial_state, subgraphs=False)"
   ]
  },
  {
   "cell_type": "code",
   "execution_count": null,
   "metadata": {},
   "outputs": [],
   "source": [
    "result"
   ]
  },
  {
   "cell_type": "code",
   "execution_count": null,
   "metadata": {},
   "outputs": [],
   "source": [
    "class MessagesState(TypedDict):\n",
    "    parent_messages: list[str]\n",
    "\n",
    "\n",
    "def invoke_subgraph(state: MessagesState):\n",
    "    subgraph_output = subgraph.invoke({\"messages\": state[\"parent_messages\"]})\n",
    "    state[\"parent_messages\"] = subgraph_output[\"messages\"]\n",
    "    return state\n",
    "\n",
    "\n",
    "main_graph = StateGraph(MessagesState)\n",
    "main_graph.add_node(\"start\", start_node)\n",
    "main_graph.add_node(\"invoke_subgraph\", invoke_subgraph)\n",
    "main_graph.add_edge(START, \"start\")\n",
    "main_graph.add_edge(\"start\", \"invoke_subgraph\")\n",
    "\n",
    "\n",
    "graph = main_graph.compile()"
   ]
  },
  {
   "cell_type": "code",
   "execution_count": null,
   "metadata": {},
   "outputs": [],
   "source": [
    "initial_state = {\n",
    "    \"parent_messages\": [HumanMessage(content=\"What's the weather in Munich?\")]\n",
    "}\n",
    "result = graph.invoke(initial_state, subgraphs=True)"
   ]
  },
  {
   "cell_type": "code",
   "execution_count": null,
   "metadata": {},
   "outputs": [],
   "source": [
    "result"
   ]
  }
 ],
 "metadata": {
  "kernelspec": {
   "display_name": ".venv",
   "language": "python",
   "name": "python3"
  },
  "language_info": {
   "codemirror_mode": {
    "name": "ipython",
    "version": 3
   },
   "file_extension": ".py",
   "mimetype": "text/x-python",
   "name": "python",
   "nbconvert_exporter": "python",
   "pygments_lexer": "ipython3",
   "version": "3.11.0"
  }
 },
 "nbformat": 4,
 "nbformat_minor": 2
}
